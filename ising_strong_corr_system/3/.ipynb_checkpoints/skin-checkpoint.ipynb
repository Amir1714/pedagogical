{
 "cells": [
  {
   "cell_type": "markdown",
   "metadata": {},
   "source": [
    "# Time dependent Phase Transition\n"
   ]
  },
  {
   "cell_type": "markdown",
   "metadata": {},
   "source": [
    "##  در ادامه بحث های روزهای دوشنبه پیرامون سیستم های همبسته قوی در این پست به بررسی گذار فاز های وابسته\n",
    "## به زمان می پردازیم \n",
    "## Learning phase transitions from dynamics Evert \n",
    "## در بررسی گذار های فاز های سیستم های هم بسته قوی در مواردی برای بررسی گذار فازها ما نیاز داریم که دینامیک سیستم را مورد بررسی قرار دهیم\n",
    "## به طور مثال در مدل هایی که دارای بی نظمی و همچنین برهم کنش های اسپینی هستند می توان با بررسی  , \n",
    "## magnetization traces \n",
    "## .در زمان های متفاوت اطلاعات ورودی برای ماشین مورد نظر را اماده کرد \n",
    "##   با استفاده ,\n",
    "## recurrent neural networks\n",
    "##   به این صورت که در حدودی که رفتار سیستم برای ما واضح و مشخص است به یادگیری ماشین می پردازیم و پس از این\n",
    "##  که ماشین به صورت قابل قبولی آموزش داده شد، برای حدودی که ما از فاز موجود در انها اطلع نداریم اجازه می دهیم \n",
    "## که ماشین فاز موجود را انتخاب کند  \n",
    "## در مقاله زیر می توان مثالی از روش مورد بحث را مشاهده کرد\n",
    "\n"
   ]
  },
  {
   "cell_type": "code",
   "execution_count": 2,
   "metadata": {},
   "outputs": [
    {
     "data": {
      "text/html": [
       "\n",
       "        <iframe\n",
       "            width=\"900\"\n",
       "            height=\"400\"\n",
       "            src=\"./1712.00450.pdf\"\n",
       "            frameborder=\"0\"\n",
       "            allowfullscreen\n",
       "        ></iframe>\n",
       "        "
      ],
      "text/plain": [
       "<IPython.lib.display.IFrame at 0x1062ec050>"
      ]
     },
     "execution_count": 2,
     "metadata": {},
     "output_type": "execute_result"
    }
   ],
   "source": [
    "from IPython.display import IFrame\n",
    "IFrame(\"./1712.00450.pdf\", width=900, height=400)"
   ]
  }
 ],
 "metadata": {
  "kernelspec": {
   "display_name": "Python 3",
   "language": "python",
   "name": "python3"
  },
  "language_info": {
   "codemirror_mode": {
    "name": "ipython",
    "version": 2
   },
   "file_extension": ".py",
   "mimetype": "text/x-python",
   "name": "python",
   "nbconvert_exporter": "python",
   "pygments_lexer": "ipython2",
   "version": "2.7.14"
  }
 },
 "nbformat": 4,
 "nbformat_minor": 2
}
