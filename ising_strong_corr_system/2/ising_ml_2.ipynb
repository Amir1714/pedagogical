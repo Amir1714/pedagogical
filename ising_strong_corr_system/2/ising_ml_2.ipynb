{
 "cells": [
  {
   "cell_type": "markdown",
   "metadata": {},
   "source": [
    "# ETH to MBL(Many Body Localization) Phase Transition\n"
   ]
  },
  {
   "cell_type": "markdown",
   "metadata": {},
   "source": [
    "## در ادامه بحث های روزهای دوشنبه پیرامون سیستم های همبسته قوی در این پست به بررسی گذار فاز های\n",
    "## ETH به MBL(Many Body Localization)\n",
    "## که یکی از چالش برانگیز ترین تغییر فازهای موجود در مقال های سال های اخیر می باشد می پردازیم\n",
    "## در بررسی این گذار فاز در هامیلتونی های مختلف مانند هامیلتونی هایزنبرگ علوه بر دشوار بودن محاسبات، به دلیل\n",
    "## نداشتم پارامتر نظم ما مکان دقیق گذار فاز را نمیدانیم\n",
    "## با استفاده از روش یادگیری ماشین تحت نظارت ما میتوانیم این گذار فاز را بسیار راحت تر و با دقت بیشتری بررسی کنیم\n",
    "## به این صورت که در حدودی که رفتار سیستم برای ما واضح و مشخص است به یادگیری ماشین می پردازیم و پس از این\n",
    "## که ماشین به صورت قابل قبولی آموزش داده شد، برای حدودی که ما از فاز موجود در انها اطلع نداریم اجازه می دهیم که ماشین فاز موجود را انتخاب کند\n",
    "## در مقاله زیر می توان مثالی از روش مورد بحث را مشاهده کرد"
   ]
  },
  {
   "cell_type": "code",
   "execution_count": 3,
   "metadata": {},
   "outputs": [
    {
     "data": {
      "text/html": [
       "\n",
       "        <iframe\n",
       "            width=\"900\"\n",
       "            height=\"400\"\n",
       "            src=\"./1704.01578.pdf\"\n",
       "            frameborder=\"0\"\n",
       "            allowfullscreen\n",
       "        ></iframe>\n",
       "        "
      ],
      "text/plain": [
       "<IPython.lib.display.IFrame at 0x107450050>"
      ]
     },
     "execution_count": 3,
     "metadata": {},
     "output_type": "execute_result"
    }
   ],
   "source": [
    "from IPython.display import IFrame\n",
    "IFrame(\"./1704.01578.pdf\", width=900, height=400)"
   ]
  }
 ],
 "metadata": {
  "kernelspec": {
   "display_name": "Python 3",
   "language": "python",
   "name": "python3"
  },
  "language_info": {
   "codemirror_mode": {
    "name": "ipython",
    "version": 2
   },
   "file_extension": ".py",
   "mimetype": "text/x-python",
   "name": "python",
   "nbconvert_exporter": "python",
   "pygments_lexer": "ipython2",
   "version": "2.7.14"
  }
 },
 "nbformat": 4,
 "nbformat_minor": 2
}
